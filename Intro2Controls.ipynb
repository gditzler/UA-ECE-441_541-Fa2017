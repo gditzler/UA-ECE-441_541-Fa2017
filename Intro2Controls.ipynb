{
 "cells": [
  {
   "cell_type": "markdown",
   "metadata": {},
   "source": [
    "# Introduction to Control System in Python \n",
    "\n",
    "## Requirements\n",
    "I am using the [Anaconda distribution](https://anaconda.org/) of Python 3 and the [Python Controls](http://python-control.readthedocs.io/) package. I did not install the component of the package that requires Fortan, which is fine. We only need to use this toolbox for double checking our work by using its basic functionality. I recommend checking out [Google's Python Class](https://developers.google.com/edu/python/) if you interested in Python. The syntax is similar to pick up and Python is a very powerful programming language. "
   ]
  },
  {
   "cell_type": "code",
   "execution_count": null,
   "metadata": {
    "collapsed": true
   },
   "outputs": [],
   "source": [
    "%matplotlib inline\n",
    "from control import *\n",
    "import numpy as np\n",
    "import matplotlib.pylab as plt\n",
    "plt.style.use('fivethirtyeight')"
   ]
  },
  {
   "cell_type": "markdown",
   "metadata": {},
   "source": [
    "## Working with Transfer Functions\n",
    "\n",
    "`num[i][j]` contains the polynomial coefficients of the numerator for the transfer function from the `(j+1)`st input to the `(i+1)`st output. `den[i][j]` works the same way.\n",
    "\n",
    "The list `[2, 3, 4]` denotes the polynomial $2s^2 + 3s + 4$.\n",
    "\n"
   ]
  },
  {
   "cell_type": "code",
   "execution_count": null,
   "metadata": {
    "collapsed": false
   },
   "outputs": [],
   "source": [
    "num = [2.]\n",
    "den = [1.,5.,6.]\n",
    "# create a system \n",
    "sys1 = tf(num, den)\n",
    "print(sys1)"
   ]
  },
  {
   "cell_type": "code",
   "execution_count": null,
   "metadata": {
    "collapsed": false
   },
   "outputs": [],
   "source": [
    "# Convert a StateSpace to a TransferFunction object.\n",
    "sys_ss = ss(\"1. -2; 3. -4\", \"5.; 7\", \"6. 8\", \"9.\")\n",
    "sys2 = tf(sys1)\n",
    "print(sys2)"
   ]
  },
  {
   "cell_type": "markdown",
   "metadata": {},
   "source": [
    "## Working with a System in the Time Domain"
   ]
  },
  {
   "cell_type": "code",
   "execution_count": null,
   "metadata": {
    "collapsed": false
   },
   "outputs": [],
   "source": [
    "f_step, t_step  = step(sys1, X0=0)\n",
    "f_imp, t_imp = impulse(sys1)\n",
    "\n",
    "plt.plot(t_step, f_step, color='b', label='Step Response')\n",
    "plt.plot(t_imp, f_imp, color='r', label='Impulse Response')\n",
    "plt.legend()\n",
    "plt.xlabel('time (s)')\n",
    "plt.ylabel('f(t)')\n",
    "plt.title('Response of the linear system')"
   ]
  },
  {
   "cell_type": "markdown",
   "metadata": {},
   "source": [
    "## Working with a System in the Frequency Domain"
   ]
  },
  {
   "cell_type": "code",
   "execution_count": null,
   "metadata": {
    "collapsed": false
   },
   "outputs": [],
   "source": [
    "f = bode(sys1)"
   ]
  },
  {
   "cell_type": "code",
   "execution_count": null,
   "metadata": {
    "collapsed": false
   },
   "outputs": [],
   "source": [
    "mag, pha, freq = bode(sys1, Plot=False)\n",
    "\n",
    "plt.figure()\n",
    "plt.loglog(freq, mag, color='b')\n",
    "plt.xlabel('Frequency (rad/sec)')\n",
    "plt.ylabel('Magnitude')\n",
    "plt.title('Magnitude Response')\n",
    "\n",
    "plt.figure()\n",
    "plt.semilogx(freq, pha, color='b')\n",
    "plt.xlabel('Frequency (rad/sec)')\n",
    "plt.ylabel('Phase (deg)')\n",
    "plt.title('Phase Response')\n"
   ]
  },
  {
   "cell_type": "code",
   "execution_count": null,
   "metadata": {
    "collapsed": false
   },
   "outputs": [],
   "source": [
    "real, imag, freq = nyquist_plot(sys1)"
   ]
  },
  {
   "cell_type": "code",
   "execution_count": null,
   "metadata": {
    "collapsed": false
   },
   "outputs": [],
   "source": [
    "rts, gs = rlocus(sys1, Plot=False)\n",
    "\n",
    "plt.plot(np.real(rts[:,0]), np.imag(rts[:,0]), color='r')\n",
    "plt.plot(np.real(rts[:,1]), np.imag(rts[:,1]), color='b')\n",
    "plt.plot(np.real(sys1.pole()[0]), np.imag(sys1.pole()[0]), marker='x', markersize=15, color='k')\n",
    "plt.plot(np.real(sys1.pole()[1]), np.imag(sys1.pole()[1]), marker='x', markersize=15, color='k')\n",
    "plt.xlabel('real')\n",
    "plt.ylabel('imaginary')\n",
    "plt.title('Root Locus Plot')"
   ]
  },
  {
   "cell_type": "code",
   "execution_count": null,
   "metadata": {
    "collapsed": false
   },
   "outputs": [],
   "source": []
  },
  {
   "cell_type": "code",
   "execution_count": null,
   "metadata": {
    "collapsed": false
   },
   "outputs": [],
   "source": []
  },
  {
   "cell_type": "code",
   "execution_count": null,
   "metadata": {
    "collapsed": true
   },
   "outputs": [],
   "source": []
  }
 ],
 "metadata": {
  "kernelspec": {
   "display_name": "Python 3",
   "language": "python",
   "name": "python3"
  },
  "language_info": {
   "codemirror_mode": {
    "name": "ipython",
    "version": 3
   },
   "file_extension": ".py",
   "mimetype": "text/x-python",
   "name": "python",
   "nbconvert_exporter": "python",
   "pygments_lexer": "ipython3",
   "version": "3.6.0"
  }
 },
 "nbformat": 4,
 "nbformat_minor": 2
}
